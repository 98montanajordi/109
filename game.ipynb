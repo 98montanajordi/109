{
 "cells": [
  {
   "cell_type": "code",
   "execution_count": 1,
   "metadata": {},
   "outputs": [],
   "source": [
    "import numpy as np\n",
    "import matplotlib.pyplot as plt\n",
    "import matplotlib as mpl\n",
    "import math\n",
    "from scipy import stats\n",
    "import matplotlib.animation as animation"
   ]
  },
  {
   "cell_type": "code",
   "execution_count": 2,
   "metadata": {},
   "outputs": [
    {
     "name": "stdout",
     "output_type": "stream",
     "text": [
      "Using matplotlib backend: Qt5Agg\n",
      "Populating the interactive namespace from numpy and matplotlib\n"
     ]
    }
   ],
   "source": [
    "%pylab"
   ]
  },
  {
   "cell_type": "code",
   "execution_count": 5,
   "metadata": {},
   "outputs": [],
   "source": [
    "def inBounds(position):\n",
    "    return position[0] >= 0 and position[1] >=0 and position[0] < s and position[1] < s"
   ]
  },
  {
   "cell_type": "code",
   "execution_count": 6,
   "metadata": {},
   "outputs": [],
   "source": [
    "# Block map\n",
    "s = 100\n",
    "nPlayers = 100"
   ]
  },
  {
   "cell_type": "code",
   "execution_count": 7,
   "metadata": {},
   "outputs": [],
   "source": [
    "nInfections = 10\n",
    "infectionFocus = [[np.random.randint(0,100),np.random.randint(0,100)] for i in range(nInfections)]\n",
    "infected = []\n",
    "for elt in infectionFocus:\n",
    "        for i in range(elt[0]-3,elt[0]+4):\n",
    "            for j in range(elt[1]-3,elt[1]+4):\n",
    "                if(abs(i-elt[0])+abs(j-elt[1]) <= 3 and inBounds((i,j))):\n",
    "                    infected.append((i,j))        \n",
    "infectedSet = set(infected)\n",
    "        \n",
    "        \n",
    "nWells = 10\n",
    "wellFocus = [[np.random.randint(0,100),np.random.randint(0,100)] for i in range(nWells)]\n",
    "welled = []\n",
    "wellStrength = []\n",
    "for elt in wellFocus:\n",
    "        for i in range(elt[0]-6,elt[0]+7):\n",
    "            for j in range(elt[1]-6,elt[1]+7):\n",
    "                if(abs(i-elt[0])+abs(j-elt[1]) <= 3):\n",
    "                    if((i,j) not in welled and inBounds((i,j))):\n",
    "                        welled.append((i,j))\n",
    "                        strengthX = stats.poisson(3)\n",
    "                        strengthY = stats.poisson(3)\n",
    "                        wellStrength.append([(strengthX.pmf(abs(i-elt[0])))*np.sign(elt[0]-i),\n",
    "                                             (strengthY.pmf(abs(j-elt[1])))*np.sign(elt[1]-j)])        \n",
    "wellSet = set(welled)\n",
    "wellStrength = np.asarray(wellStrength)\n",
    "#nPatronums = 1\n",
    "#patronum = [[np.random.randint(0,100),np.random.randint(0,100)] for i in range(nPatronums)]"
   ]
  },
  {
   "cell_type": "code",
   "execution_count": 8,
   "metadata": {},
   "outputs": [],
   "source": [
    "# Initial parameters\n",
    "x0A = 0\n",
    "y0A = 0\n",
    "x0B = s-1\n",
    "y0B = s-1\n",
    "\n",
    "posA = np.asarray([[x0A,y0A]]*nPlayers)\n",
    "posB = np.asarray([[x0B,y0B]]*nPlayers)\n",
    "probA = np.asarray([[0.5,0.5]]*nPlayers)\n",
    "probB = np.asarray([[-0.5,-0.5]]*nPlayers)\n",
    "infectedA = [0]*nPlayers\n",
    "infectedB = [0]*nPlayers"
   ]
  },
  {
   "cell_type": "code",
   "execution_count": 9,
   "metadata": {},
   "outputs": [],
   "source": [
    "def updatePlayers(posA,posB,probA,probB,infectedA,infectedB,infected,infectedSet,welled,wellSet,wellStrength):\n",
    "    disease = stats.bernoulli(0.1)\n",
    "    for i in range(nPlayers):\n",
    "        if tuple(posA[i]) in wellSet:\n",
    "            probA[i] += wellStrength[welled.index(tuple(posA[i]))]\n",
    "            \n",
    "        if tuple(posA[i]) in infectedSet and disease.rvs():\n",
    "            infectedA[i] = 1\n",
    "            \n",
    "        if tuple(posB[i]) in wellSet:\n",
    "            probB[i] += wellStrength[welled.index(tuple(posB[i]))]\n",
    "        \n",
    "        if tuple(posB[i]) in infectedSet and disease.rvs():\n",
    "            infectedB[i] = 1\n",
    "            \n",
    "        xA = stats.norm(0,2*abs(probA[i][0]))\n",
    "        yA = stats.norm(0,2*abs(probA[i][1]))\n",
    "        \n",
    "        position = posA[i] + np.int_(np.asarray([2*abs(xA.rvs())*probA[i][0],2*abs(yA.rvs())*probA[i][1]]))\n",
    "        \n",
    "        if inBounds(position):\n",
    "            posA[i] = position\n",
    "        \n",
    "        xB = stats.norm(0,2*abs(probB[i][0]))\n",
    "        yB = stats.norm(0,2*abs(probB[i][1]))\n",
    "        \n",
    "        position2 = posB[i] + np.int_(np.asarray([2*abs(xB.rvs())*probB[i][0],2*abs(yB.rvs())*probB[i][1]]))\n",
    "        \n",
    "        if inBounds(position2):\n",
    "            posB[i] = position2\n",
    "    \n",
    "    return posA,posB,probA,probB,infectedA,infectedB"
   ]
  },
  {
   "cell_type": "code",
   "execution_count": 10,
   "metadata": {},
   "outputs": [],
   "source": [
    "def paint(colors,indices, number=1):\n",
    "    for elt in indices:\n",
    "        colors[elt[0],elt[1]] = number\n",
    "    return colors"
   ]
  },
  {
   "cell_type": "code",
   "execution_count": 11,
   "metadata": {},
   "outputs": [],
   "source": [
    "def cureInfected(posA,posB,probA,probB,infectedA,infectedB):\n",
    "    death = stats.bernoulli(0.9)\n",
    "    indicesA = np.where(infectedA == 1)\n",
    "    survivalA = np.asarray([death.rvs() for i in range(len(indicesA))])\n",
    "    indicesA = np.delete(indicesA,np.where(survivalA == 1))\n",
    "    if(indicesA != []):\n",
    "        posA = np.delete(posA,indicesA)\n",
    "        probA = np.delete(probA,indicesA)\n",
    "        infectedA = np.delete(infectedA,indicesA)\n",
    "    \n",
    "    indicesB = np.where(infectedB == 1)\n",
    "    survivalB = np.asarray([death.rvs() for i in range(len(indicesB))])\n",
    "    indicesB = np.delete(indicesB,np.where(survivalB == 1))\n",
    "    if(indicesB != []):\n",
    "        posB = np.delete(posB,indicesB)\n",
    "        probB = np.delete(probB,indicesB)\n",
    "        infectedB = np.delete(infectedB,indicesB)\n",
    "    \n",
    "    return posA,posB,probA,probB,infectedA,infectedB"
   ]
  },
  {
   "cell_type": "code",
   "execution_count": 12,
   "metadata": {},
   "outputs": [],
   "source": [
    "def nextFrame(posA,posB,probA,probB,infectedA,infectedB,infected,infectedSet,welled,wellSet,wellStrength):\n",
    "    colors = np.zeros((s,s))\n",
    "    colors = paint(colors,infected,1)\n",
    "    colors = paint(colors,welled,2)\n",
    "    posA,posB,probA,probB,infectedA,infectedB = updatePlayers(posA,posB,probA,probB,infectedA,infectedB,infected,infectedSet,welled,wellSet,wellStrength)\n",
    "    \n",
    "    posA,posB,probA,probB,infectedA,infectedB = cureInfected(posA,posB,probA,probB,infectedA,infectedB)\n",
    "    \n",
    "    colors = paint(colors,posA,-1)\n",
    "    colors = paint(colors,posB,-2)\n",
    "    \n",
    "    return posA,posB,probA,probB,infectedA,infectedB,colors"
   ]
  },
  {
   "cell_type": "code",
   "execution_count": 13,
   "metadata": {},
   "outputs": [
    {
     "name": "stderr",
     "output_type": "stream",
     "text": [
      "/Users/jordiarnau/anaconda3/lib/python3.6/site-packages/ipykernel_launcher.py:5: DeprecationWarning: in the future out of bounds indices will raise an error instead of being ignored by `numpy.delete`.\n",
      "  \"\"\"\n",
      "/Users/jordiarnau/anaconda3/lib/python3.6/site-packages/ipykernel_launcher.py:6: DeprecationWarning: The truth value of an empty array is ambiguous. Returning False, but in future this will result in an error. Use `array.size > 0` to check that an array is not empty.\n",
      "  \n",
      "/Users/jordiarnau/anaconda3/lib/python3.6/site-packages/ipykernel_launcher.py:13: DeprecationWarning: in the future out of bounds indices will raise an error instead of being ignored by `numpy.delete`.\n",
      "  del sys.path[0]\n",
      "/Users/jordiarnau/anaconda3/lib/python3.6/site-packages/ipykernel_launcher.py:14: DeprecationWarning: The truth value of an empty array is ambiguous. Returning False, but in future this will result in an error. Use `array.size > 0` to check that an array is not empty.\n",
      "  \n"
     ]
    },
    {
     "ename": "KeyboardInterrupt",
     "evalue": "",
     "output_type": "error",
     "traceback": [
      "\u001b[0;31m---------------------------------------------------------------------------\u001b[0m",
      "\u001b[0;31mKeyboardInterrupt\u001b[0m                         Traceback (most recent call last)",
      "\u001b[0;32m<ipython-input-13-d8ec12903fc8>\u001b[0m in \u001b[0;36m<module>\u001b[0;34m\u001b[0m\n\u001b[1;32m      8\u001b[0m \u001b[0;34m\u001b[0m\u001b[0m\n\u001b[1;32m      9\u001b[0m \u001b[0;32mwhile\u001b[0m \u001b[0mplaying\u001b[0m\u001b[0;34m:\u001b[0m\u001b[0;34m\u001b[0m\u001b[0;34m\u001b[0m\u001b[0m\n\u001b[0;32m---> 10\u001b[0;31m     \u001b[0mposA\u001b[0m\u001b[0;34m,\u001b[0m\u001b[0mposB\u001b[0m\u001b[0;34m,\u001b[0m\u001b[0mprobA\u001b[0m\u001b[0;34m,\u001b[0m\u001b[0mprobB\u001b[0m\u001b[0;34m,\u001b[0m\u001b[0minfectedA\u001b[0m\u001b[0;34m,\u001b[0m\u001b[0minfectedB\u001b[0m\u001b[0;34m,\u001b[0m\u001b[0mcolors\u001b[0m \u001b[0;34m=\u001b[0m \u001b[0mnextFrame\u001b[0m\u001b[0;34m(\u001b[0m\u001b[0mposA\u001b[0m\u001b[0;34m,\u001b[0m\u001b[0mposB\u001b[0m\u001b[0;34m,\u001b[0m\u001b[0mprobA\u001b[0m\u001b[0;34m,\u001b[0m\u001b[0mprobB\u001b[0m\u001b[0;34m,\u001b[0m\u001b[0minfectedA\u001b[0m\u001b[0;34m,\u001b[0m\u001b[0minfectedB\u001b[0m\u001b[0;34m,\u001b[0m\u001b[0minfected\u001b[0m\u001b[0;34m,\u001b[0m\u001b[0minfectedSet\u001b[0m\u001b[0;34m,\u001b[0m\u001b[0mwelled\u001b[0m\u001b[0;34m,\u001b[0m\u001b[0mwellSet\u001b[0m\u001b[0;34m,\u001b[0m\u001b[0mwellStrength\u001b[0m\u001b[0;34m)\u001b[0m\u001b[0;34m\u001b[0m\u001b[0;34m\u001b[0m\u001b[0m\n\u001b[0m\u001b[1;32m     11\u001b[0m \u001b[0;34m\u001b[0m\u001b[0m\n\u001b[1;32m     12\u001b[0m     \u001b[0mim\u001b[0m\u001b[0;34m.\u001b[0m\u001b[0mset_data\u001b[0m\u001b[0;34m(\u001b[0m\u001b[0mcolors\u001b[0m\u001b[0;34m)\u001b[0m\u001b[0;34m\u001b[0m\u001b[0;34m\u001b[0m\u001b[0m\n",
      "\u001b[0;32m<ipython-input-12-e477b8003047>\u001b[0m in \u001b[0;36mnextFrame\u001b[0;34m(posA, posB, probA, probB, infectedA, infectedB, infected, infectedSet, welled, wellSet, wellStrength)\u001b[0m\n\u001b[1;32m      3\u001b[0m     \u001b[0mcolors\u001b[0m \u001b[0;34m=\u001b[0m \u001b[0mpaint\u001b[0m\u001b[0;34m(\u001b[0m\u001b[0mcolors\u001b[0m\u001b[0;34m,\u001b[0m\u001b[0minfected\u001b[0m\u001b[0;34m,\u001b[0m\u001b[0;36m1\u001b[0m\u001b[0;34m)\u001b[0m\u001b[0;34m\u001b[0m\u001b[0;34m\u001b[0m\u001b[0m\n\u001b[1;32m      4\u001b[0m     \u001b[0mcolors\u001b[0m \u001b[0;34m=\u001b[0m \u001b[0mpaint\u001b[0m\u001b[0;34m(\u001b[0m\u001b[0mcolors\u001b[0m\u001b[0;34m,\u001b[0m\u001b[0mwelled\u001b[0m\u001b[0;34m,\u001b[0m\u001b[0;36m2\u001b[0m\u001b[0;34m)\u001b[0m\u001b[0;34m\u001b[0m\u001b[0;34m\u001b[0m\u001b[0m\n\u001b[0;32m----> 5\u001b[0;31m     \u001b[0mposA\u001b[0m\u001b[0;34m,\u001b[0m\u001b[0mposB\u001b[0m\u001b[0;34m,\u001b[0m\u001b[0mprobA\u001b[0m\u001b[0;34m,\u001b[0m\u001b[0mprobB\u001b[0m\u001b[0;34m,\u001b[0m\u001b[0minfectedA\u001b[0m\u001b[0;34m,\u001b[0m\u001b[0minfectedB\u001b[0m \u001b[0;34m=\u001b[0m \u001b[0mupdatePlayers\u001b[0m\u001b[0;34m(\u001b[0m\u001b[0mposA\u001b[0m\u001b[0;34m,\u001b[0m\u001b[0mposB\u001b[0m\u001b[0;34m,\u001b[0m\u001b[0mprobA\u001b[0m\u001b[0;34m,\u001b[0m\u001b[0mprobB\u001b[0m\u001b[0;34m,\u001b[0m\u001b[0minfectedA\u001b[0m\u001b[0;34m,\u001b[0m\u001b[0minfectedB\u001b[0m\u001b[0;34m,\u001b[0m\u001b[0minfected\u001b[0m\u001b[0;34m,\u001b[0m\u001b[0minfectedSet\u001b[0m\u001b[0;34m,\u001b[0m\u001b[0mwelled\u001b[0m\u001b[0;34m,\u001b[0m\u001b[0mwellSet\u001b[0m\u001b[0;34m,\u001b[0m\u001b[0mwellStrength\u001b[0m\u001b[0;34m)\u001b[0m\u001b[0;34m\u001b[0m\u001b[0;34m\u001b[0m\u001b[0m\n\u001b[0m\u001b[1;32m      6\u001b[0m \u001b[0;34m\u001b[0m\u001b[0m\n\u001b[1;32m      7\u001b[0m     \u001b[0mposA\u001b[0m\u001b[0;34m,\u001b[0m\u001b[0mposB\u001b[0m\u001b[0;34m,\u001b[0m\u001b[0mprobA\u001b[0m\u001b[0;34m,\u001b[0m\u001b[0mprobB\u001b[0m\u001b[0;34m,\u001b[0m\u001b[0minfectedA\u001b[0m\u001b[0;34m,\u001b[0m\u001b[0minfectedB\u001b[0m \u001b[0;34m=\u001b[0m \u001b[0mcureInfected\u001b[0m\u001b[0;34m(\u001b[0m\u001b[0mposA\u001b[0m\u001b[0;34m,\u001b[0m\u001b[0mposB\u001b[0m\u001b[0;34m,\u001b[0m\u001b[0mprobA\u001b[0m\u001b[0;34m,\u001b[0m\u001b[0mprobB\u001b[0m\u001b[0;34m,\u001b[0m\u001b[0minfectedA\u001b[0m\u001b[0;34m,\u001b[0m\u001b[0minfectedB\u001b[0m\u001b[0;34m)\u001b[0m\u001b[0;34m\u001b[0m\u001b[0;34m\u001b[0m\u001b[0m\n",
      "\u001b[0;32m<ipython-input-9-811f92344be4>\u001b[0m in \u001b[0;36mupdatePlayers\u001b[0;34m(posA, posB, probA, probB, infectedA, infectedB, infected, infectedSet, welled, wellSet, wellStrength)\u001b[0m\n\u001b[1;32m     22\u001b[0m             \u001b[0mposA\u001b[0m\u001b[0;34m[\u001b[0m\u001b[0mi\u001b[0m\u001b[0;34m]\u001b[0m \u001b[0;34m=\u001b[0m \u001b[0mposition\u001b[0m\u001b[0;34m\u001b[0m\u001b[0;34m\u001b[0m\u001b[0m\n\u001b[1;32m     23\u001b[0m \u001b[0;34m\u001b[0m\u001b[0m\n\u001b[0;32m---> 24\u001b[0;31m         \u001b[0mxB\u001b[0m \u001b[0;34m=\u001b[0m \u001b[0mstats\u001b[0m\u001b[0;34m.\u001b[0m\u001b[0mnorm\u001b[0m\u001b[0;34m(\u001b[0m\u001b[0;36m0\u001b[0m\u001b[0;34m,\u001b[0m\u001b[0;36m2\u001b[0m\u001b[0;34m*\u001b[0m\u001b[0mabs\u001b[0m\u001b[0;34m(\u001b[0m\u001b[0mprobB\u001b[0m\u001b[0;34m[\u001b[0m\u001b[0mi\u001b[0m\u001b[0;34m]\u001b[0m\u001b[0;34m[\u001b[0m\u001b[0;36m0\u001b[0m\u001b[0;34m]\u001b[0m\u001b[0;34m)\u001b[0m\u001b[0;34m)\u001b[0m\u001b[0;34m\u001b[0m\u001b[0;34m\u001b[0m\u001b[0m\n\u001b[0m\u001b[1;32m     25\u001b[0m         \u001b[0myB\u001b[0m \u001b[0;34m=\u001b[0m \u001b[0mstats\u001b[0m\u001b[0;34m.\u001b[0m\u001b[0mnorm\u001b[0m\u001b[0;34m(\u001b[0m\u001b[0;36m0\u001b[0m\u001b[0;34m,\u001b[0m\u001b[0;36m2\u001b[0m\u001b[0;34m*\u001b[0m\u001b[0mabs\u001b[0m\u001b[0;34m(\u001b[0m\u001b[0mprobB\u001b[0m\u001b[0;34m[\u001b[0m\u001b[0mi\u001b[0m\u001b[0;34m]\u001b[0m\u001b[0;34m[\u001b[0m\u001b[0;36m1\u001b[0m\u001b[0;34m]\u001b[0m\u001b[0;34m)\u001b[0m\u001b[0;34m)\u001b[0m\u001b[0;34m\u001b[0m\u001b[0;34m\u001b[0m\u001b[0m\n\u001b[1;32m     26\u001b[0m \u001b[0;34m\u001b[0m\u001b[0m\n",
      "\u001b[0;32m~/anaconda3/lib/python3.6/site-packages/scipy/stats/_distn_infrastructure.py\u001b[0m in \u001b[0;36m__call__\u001b[0;34m(self, *args, **kwds)\u001b[0m\n\u001b[1;32m    768\u001b[0m \u001b[0;34m\u001b[0m\u001b[0m\n\u001b[1;32m    769\u001b[0m     \u001b[0;32mdef\u001b[0m \u001b[0m__call__\u001b[0m\u001b[0;34m(\u001b[0m\u001b[0mself\u001b[0m\u001b[0;34m,\u001b[0m \u001b[0;34m*\u001b[0m\u001b[0margs\u001b[0m\u001b[0;34m,\u001b[0m \u001b[0;34m**\u001b[0m\u001b[0mkwds\u001b[0m\u001b[0;34m)\u001b[0m\u001b[0;34m:\u001b[0m\u001b[0;34m\u001b[0m\u001b[0;34m\u001b[0m\u001b[0m\n\u001b[0;32m--> 770\u001b[0;31m         \u001b[0;32mreturn\u001b[0m \u001b[0mself\u001b[0m\u001b[0;34m.\u001b[0m\u001b[0mfreeze\u001b[0m\u001b[0;34m(\u001b[0m\u001b[0;34m*\u001b[0m\u001b[0margs\u001b[0m\u001b[0;34m,\u001b[0m \u001b[0;34m**\u001b[0m\u001b[0mkwds\u001b[0m\u001b[0;34m)\u001b[0m\u001b[0;34m\u001b[0m\u001b[0;34m\u001b[0m\u001b[0m\n\u001b[0m\u001b[1;32m    771\u001b[0m     \u001b[0m__call__\u001b[0m\u001b[0;34m.\u001b[0m\u001b[0m__doc__\u001b[0m \u001b[0;34m=\u001b[0m \u001b[0mfreeze\u001b[0m\u001b[0;34m.\u001b[0m\u001b[0m__doc__\u001b[0m\u001b[0;34m\u001b[0m\u001b[0;34m\u001b[0m\u001b[0m\n\u001b[1;32m    772\u001b[0m \u001b[0;34m\u001b[0m\u001b[0m\n",
      "\u001b[0;32m~/anaconda3/lib/python3.6/site-packages/scipy/stats/_distn_infrastructure.py\u001b[0m in \u001b[0;36mfreeze\u001b[0;34m(self, *args, **kwds)\u001b[0m\n\u001b[1;32m    765\u001b[0m \u001b[0;34m\u001b[0m\u001b[0m\n\u001b[1;32m    766\u001b[0m         \"\"\"\n\u001b[0;32m--> 767\u001b[0;31m         \u001b[0;32mreturn\u001b[0m \u001b[0mrv_frozen\u001b[0m\u001b[0;34m(\u001b[0m\u001b[0mself\u001b[0m\u001b[0;34m,\u001b[0m \u001b[0;34m*\u001b[0m\u001b[0margs\u001b[0m\u001b[0;34m,\u001b[0m \u001b[0;34m**\u001b[0m\u001b[0mkwds\u001b[0m\u001b[0;34m)\u001b[0m\u001b[0;34m\u001b[0m\u001b[0;34m\u001b[0m\u001b[0m\n\u001b[0m\u001b[1;32m    768\u001b[0m \u001b[0;34m\u001b[0m\u001b[0m\n\u001b[1;32m    769\u001b[0m     \u001b[0;32mdef\u001b[0m \u001b[0m__call__\u001b[0m\u001b[0;34m(\u001b[0m\u001b[0mself\u001b[0m\u001b[0;34m,\u001b[0m \u001b[0;34m*\u001b[0m\u001b[0margs\u001b[0m\u001b[0;34m,\u001b[0m \u001b[0;34m**\u001b[0m\u001b[0mkwds\u001b[0m\u001b[0;34m)\u001b[0m\u001b[0;34m:\u001b[0m\u001b[0;34m\u001b[0m\u001b[0;34m\u001b[0m\u001b[0m\n",
      "\u001b[0;32m~/anaconda3/lib/python3.6/site-packages/scipy/stats/_distn_infrastructure.py\u001b[0m in \u001b[0;36m__init__\u001b[0;34m(self, dist, *args, **kwds)\u001b[0m\n\u001b[1;32m    430\u001b[0m \u001b[0;34m\u001b[0m\u001b[0m\n\u001b[1;32m    431\u001b[0m         \u001b[0;31m# create a new instance\u001b[0m\u001b[0;34m\u001b[0m\u001b[0;34m\u001b[0m\u001b[0;34m\u001b[0m\u001b[0m\n\u001b[0;32m--> 432\u001b[0;31m         \u001b[0mself\u001b[0m\u001b[0;34m.\u001b[0m\u001b[0mdist\u001b[0m \u001b[0;34m=\u001b[0m \u001b[0mdist\u001b[0m\u001b[0;34m.\u001b[0m\u001b[0m__class__\u001b[0m\u001b[0;34m(\u001b[0m\u001b[0;34m**\u001b[0m\u001b[0mdist\u001b[0m\u001b[0;34m.\u001b[0m\u001b[0m_updated_ctor_param\u001b[0m\u001b[0;34m(\u001b[0m\u001b[0;34m)\u001b[0m\u001b[0;34m)\u001b[0m\u001b[0;34m\u001b[0m\u001b[0;34m\u001b[0m\u001b[0m\n\u001b[0m\u001b[1;32m    433\u001b[0m \u001b[0;34m\u001b[0m\u001b[0m\n\u001b[1;32m    434\u001b[0m         \u001b[0;31m# a, b may be set in _argcheck, depending on *args, **kwds. Ouch.\u001b[0m\u001b[0;34m\u001b[0m\u001b[0;34m\u001b[0m\u001b[0;34m\u001b[0m\u001b[0m\n",
      "\u001b[0;32m~/anaconda3/lib/python3.6/site-packages/scipy/stats/_distn_infrastructure.py\u001b[0m in \u001b[0;36m__init__\u001b[0;34m(self, momtype, a, b, xtol, badvalue, name, longname, shapes, extradoc, seed)\u001b[0m\n\u001b[1;32m   1558\u001b[0m             \u001b[0;32melse\u001b[0m\u001b[0;34m:\u001b[0m\u001b[0;34m\u001b[0m\u001b[0;34m\u001b[0m\u001b[0m\n\u001b[1;32m   1559\u001b[0m                 \u001b[0mdct\u001b[0m \u001b[0;34m=\u001b[0m \u001b[0mdict\u001b[0m\u001b[0;34m(\u001b[0m\u001b[0mdistcont\u001b[0m\u001b[0;34m)\u001b[0m\u001b[0;34m\u001b[0m\u001b[0;34m\u001b[0m\u001b[0m\n\u001b[0;32m-> 1560\u001b[0;31m                 \u001b[0mself\u001b[0m\u001b[0;34m.\u001b[0m\u001b[0m_construct_doc\u001b[0m\u001b[0;34m(\u001b[0m\u001b[0mdocdict\u001b[0m\u001b[0;34m,\u001b[0m \u001b[0mdct\u001b[0m\u001b[0;34m.\u001b[0m\u001b[0mget\u001b[0m\u001b[0;34m(\u001b[0m\u001b[0mself\u001b[0m\u001b[0;34m.\u001b[0m\u001b[0mname\u001b[0m\u001b[0;34m)\u001b[0m\u001b[0;34m)\u001b[0m\u001b[0;34m\u001b[0m\u001b[0;34m\u001b[0m\u001b[0m\n\u001b[0m\u001b[1;32m   1561\u001b[0m \u001b[0;34m\u001b[0m\u001b[0m\n\u001b[1;32m   1562\u001b[0m     \u001b[0;32mdef\u001b[0m \u001b[0m_updated_ctor_param\u001b[0m\u001b[0;34m(\u001b[0m\u001b[0mself\u001b[0m\u001b[0;34m)\u001b[0m\u001b[0;34m:\u001b[0m\u001b[0;34m\u001b[0m\u001b[0;34m\u001b[0m\u001b[0m\n",
      "\u001b[0;32m~/anaconda3/lib/python3.6/site-packages/scipy/stats/_distn_infrastructure.py\u001b[0m in \u001b[0;36m_construct_doc\u001b[0;34m(self, docdict, shapes_vals)\u001b[0m\n\u001b[1;32m    726\u001b[0m             \u001b[0;32mfor\u001b[0m \u001b[0mitem\u001b[0m \u001b[0;32min\u001b[0m \u001b[0;34m[\u001b[0m\u001b[0;34m'default'\u001b[0m\u001b[0;34m,\u001b[0m \u001b[0;34m'before_notes'\u001b[0m\u001b[0;34m]\u001b[0m\u001b[0;34m:\u001b[0m\u001b[0;34m\u001b[0m\u001b[0;34m\u001b[0m\u001b[0m\n\u001b[1;32m    727\u001b[0m                 tempdict[item] = tempdict[item].replace(\n\u001b[0;32m--> 728\u001b[0;31m                     \"\\n%(shapes)s : array_like\\n    shape parameters\", \"\")\n\u001b[0m\u001b[1;32m    729\u001b[0m         \u001b[0;32mfor\u001b[0m \u001b[0mi\u001b[0m \u001b[0;32min\u001b[0m \u001b[0mrange\u001b[0m\u001b[0;34m(\u001b[0m\u001b[0;36m2\u001b[0m\u001b[0;34m)\u001b[0m\u001b[0;34m:\u001b[0m\u001b[0;34m\u001b[0m\u001b[0;34m\u001b[0m\u001b[0m\n\u001b[1;32m    730\u001b[0m             \u001b[0;32mif\u001b[0m \u001b[0mself\u001b[0m\u001b[0;34m.\u001b[0m\u001b[0mshapes\u001b[0m \u001b[0;32mis\u001b[0m \u001b[0;32mNone\u001b[0m\u001b[0;34m:\u001b[0m\u001b[0;34m\u001b[0m\u001b[0;34m\u001b[0m\u001b[0m\n",
      "\u001b[0;31mKeyboardInterrupt\u001b[0m: "
     ]
    }
   ],
   "source": [
    "cmap = mpl.colors.ListedColormap(['blue','red','white','purple','black'])\n",
    "bounds=[-2.5,-1.5,-0.5,0.5,1.5,2.5]\n",
    "norm = mpl.colors.BoundaryNorm(bounds, cmap.N)\n",
    "\n",
    "f, ax = plt.subplots(1, 1)\n",
    "im = ax.imshow(np.zeros((s,s)),interpolation='nearest', cmap = cmap,norm=norm, animated = True)\n",
    "playing = True\n",
    "\n",
    "while playing:\n",
    "    posA,posB,probA,probB,infectedA,infectedB,colors = nextFrame(posA,posB,probA,probB,infectedA,infectedB,infected,infectedSet,welled,wellSet,wellStrength)\n",
    "    \n",
    "    im.set_data(colors)\n",
    "    f.canvas.draw()\n",
    "    plt.pause(0.001)"
   ]
  },
  {
   "cell_type": "code",
   "execution_count": null,
   "metadata": {},
   "outputs": [],
   "source": [
    "elt[0],elt[1]"
   ]
  },
  {
   "cell_type": "code",
   "execution_count": null,
   "metadata": {},
   "outputs": [],
   "source": [
    "posB"
   ]
  },
  {
   "cell_type": "code",
   "execution_count": null,
   "metadata": {},
   "outputs": [],
   "source": []
  }
 ],
 "metadata": {
  "kernelspec": {
   "display_name": "Python 3",
   "language": "python",
   "name": "python3"
  },
  "language_info": {
   "codemirror_mode": {
    "name": "ipython",
    "version": 3
   },
   "file_extension": ".py",
   "mimetype": "text/x-python",
   "name": "python",
   "nbconvert_exporter": "python",
   "pygments_lexer": "ipython3",
   "version": "3.6.8"
  }
 },
 "nbformat": 4,
 "nbformat_minor": 2
}
